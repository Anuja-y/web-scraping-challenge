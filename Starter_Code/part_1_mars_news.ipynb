{
 "cells": [
  {
   "attachments": {},
   "cell_type": "markdown",
   "metadata": {},
   "source": [
    "# Module 12 Challenge\n",
    "## Deliverable 1: Scrape Titles and Preview Text from Mars News"
   ]
  },
  {
   "cell_type": "code",
   "execution_count": 92,
   "metadata": {},
   "outputs": [],
   "source": [
    "# Import Splinter and BeautifulSoup\n",
    "from splinter import Browser\n",
    "from bs4 import BeautifulSoup as soup"
   ]
  },
  {
   "cell_type": "code",
   "execution_count": 93,
   "metadata": {
    "scrolled": true
   },
   "outputs": [],
   "source": [
    "browser = Browser('chrome')"
   ]
  },
  {
   "attachments": {},
   "cell_type": "markdown",
   "metadata": {},
   "source": [
    "### Step 1: Visit the Website\n",
    "\n",
    "1. Use automated browsing to visit the [Mars news site](https://static.bc-edx.com/data/web/mars_news/index.html). Inspect the page to identify which elements to scrape.\n",
    "\n",
    "      > **Hint** To identify which elements to scrape, you might want to inspect the page by using Chrome DevTools."
   ]
  },
  {
   "cell_type": "code",
   "execution_count": 94,
   "metadata": {},
   "outputs": [],
   "source": [
    "# Visit the Mars news site\n",
    "url = 'https://static.bc-edx.com/data/web/mars_news/index.html'\n",
    "browser.visit(url)"
   ]
  },
  {
   "attachments": {},
   "cell_type": "markdown",
   "metadata": {},
   "source": [
    "### Step 2: Scrape the Website\n",
    "\n",
    "Create a Beautiful Soup object and use it to extract text elements from the website."
   ]
  },
  {
   "cell_type": "code",
   "execution_count": 95,
   "metadata": {},
   "outputs": [],
   "source": [
    "# Create a Beautiful Soup object\n",
    "html = browser.html\n",
    "html_soup = soup(html, 'html.parser')"
   ]
  },
  {
   "cell_type": "code",
   "execution_count": 96,
   "metadata": {},
   "outputs": [
    {
     "name": "stdout",
     "output_type": "stream",
     "text": [
      "['\\n', '\\n', '\\n', '\\n', '\\n', '\\n', 'News - Mars Exploration Program', '\\n', '\\n', '\\n', '\\n', '\\n', '\\n', '\\n', '\\n', 'MARS Planet Science', '\\n', 'Exploration Program', '\\n', '\\n', '\\n', '\\n', '\\n', '\\n', '\\n', '\\n', 'The Red Planet', '\\n', '\\n', '\\n', 'The Program', '\\n', '\\n', '\\n', 'News & Events', '\\n', '\\n', '\\n', 'Multimedia', '\\n', '\\n', '\\n', 'Missions', '\\n', '\\n', '\\n', 'More', '\\n', '\\n', '\\n', '\\n', '\\n', '\\n', '\\n', '\\n', '\\n', '\\n', '\\n', 'News', '\\n', '\\n', '\\n', '\\n', '\\n', '\\n', '\\n', '\\n', '\\n', 'Latest', '\\n', '\\n', '\\n', '\\n', '\\n', 'All Categories', '\\n', '\\n', '\\n', '\\n', '\\n', '\\n', '\\n', '\\n', '\\n', '\\n', '\\n', '\\n', '\\n', '\\n', '\\n', '\\n', '\\n', '\\n', '\\n', '\\n', '\\n', 'November 9, 2022', '\\n', \"NASA's MAVEN Observes Martian Light Show Caused by Major Solar Storm\", '\\n', 'For the first time in its eight years orbiting Mars, NASA’s MAVEN mission witnessed two different types of ultraviolet aurorae simultaneously, the result of solar storms that began on Aug. 27.', '\\n', '\\n', '\\n', '\\n', '\\n', '\\n', '\\n', '\\n', '\\n', '\\n', '\\n', '\\n', '\\n', '\\n', '\\n', 'November 1, 2022', '\\n', \"NASA Prepares to Say 'Farewell' to InSight Spacecraft\", '\\n', 'A closer look at what goes into wrapping up the mission as the spacecraft’s power supply continues to dwindle.', '\\n', '\\n', '\\n', '\\n', '\\n', '\\n', '\\n', '\\n', '\\n', '\\n', '\\n', '\\n', '\\n', '\\n', '\\n', 'October 28, 2022', '\\n', 'NASA and ESA Agree on Next Steps to Return Mars Samples to Earth', '\\n', 'The agency’s Perseverance rover will establish the first sample depot on Mars.', '\\n', '\\n', '\\n', '\\n', '\\n', '\\n', '\\n', '\\n', '\\n', '\\n', '\\n', '\\n', '\\n', '\\n', '\\n', 'October 27, 2022', '\\n', \"NASA's InSight Lander Detects Stunning Meteoroid Impact on Mars\", '\\n', 'The agency’s lander felt the ground shake during the impact while cameras aboard the Mars Reconnaissance Orbiter spotted the yawning new crater from space.', '\\n', '\\n', '\\n', '\\n', '\\n', '\\n', '\\n', '\\n', '\\n', '\\n', '\\n', '\\n', '\\n', '\\n', '\\n', 'October 21, 2022', '\\n', 'NASA To Host Briefing on InSight, Mars Reconnaissance Orbiter Findings', '\\n', 'Scientists from two Mars missions will discuss how they combined images and data for a major finding on the Red Planet.', '\\n', '\\n', '\\n', '\\n', '\\n', '\\n', '\\n', '\\n', '\\n', '\\n', '\\n', '\\n', '\\n', '\\n', '\\n', 'October 20, 2022', '\\n', 'Why NASA Is Trying To Crash Land on Mars', '\\n', 'Like a car’s crumple zone, the experimental SHIELD lander is designed to absorb a hard impact.', '\\n', '\\n', '\\n', '\\n', '\\n', '\\n', '\\n', '\\n', '\\n', '\\n', '\\n', '\\n', '\\n', '\\n', '\\n', 'October 19, 2022', '\\n', 'Curiosity Mars Rover Reaches Long-Awaited Salty Region', '\\n', 'After years of climbing, the Mars rover has arrived at a special region believed to have formed as Mars’ climate was drying.', '\\n', '\\n', '\\n', '\\n', '\\n', '\\n', '\\n', '\\n', '\\n', '\\n', '\\n', '\\n', '\\n', '\\n', '\\n', 'October 12, 2022', '\\n', 'Mars Mission Shields Up for Tests', '\\n', 'Protecting Mars Sample Return spacecraft from micrometeorites requires high-caliber work.', '\\n', '\\n', '\\n', '\\n', '\\n', '\\n', '\\n', '\\n', '\\n', '\\n', '\\n', '\\n', '\\n', '\\n', '\\n', 'October 7, 2022', '\\n', \"NASA's InSight Waits Out Dust Storm\", '\\n', 'InSight’s team is taking steps to help the solar-powered lander continue operating for as long as possible.', '\\n', '\\n', '\\n', '\\n', '\\n', '\\n', '\\n', '\\n', '\\n', '\\n', '\\n', '\\n', '\\n', '\\n', '\\n', 'September 19, 2022', '\\n', \"NASA's InSight 'Hears' Its First Meteoroid Impacts on Mars\", '\\n', 'The Mars lander’s seismometer has picked up vibrations from four separate impacts in the past two years.', '\\n', '\\n', '\\n', '\\n', '\\n', '\\n', '\\n', '\\n', '\\n', '\\n', '\\n', '\\n', '\\n', '\\n', '\\n', 'September 15, 2022', '\\n', \"NASA's Perseverance Rover Investigates Geologically Rich Mars Terrain\", '\\n', 'The latest findings provide greater detail on a region of the Red Planet that has a watery past and is yielding promising samples for the NASA-ESA Mars Sample Return campaign.', '\\n', '\\n', '\\n', '\\n', '\\n', '\\n', '\\n', '\\n', '\\n', '\\n', '\\n', '\\n', '\\n', '\\n', '\\n', 'September 12, 2022', '\\n', 'NASA to Host Briefing on Perseverance Mars Rover Mission Operations', '\\n', 'Members of the mission will discuss the rover’s activities as it gathers samples in an ancient river delta.', '\\n', '\\n', '\\n', '\\n', '\\n', '\\n', '\\n', '\\n', '\\n', '\\n', '\\n', '\\n', '\\n', '\\n', '\\n', 'August 25, 2022', '\\n', \"NASA's Perseverance Makes New Discoveries in Mars' Jezero Crater\", '\\n', 'The rover found that Jezero Crater’s floor is made up of volcanic rocks that have interacted with water.', '\\n', '\\n', '\\n', '\\n', '\\n', '\\n', '\\n', '\\n', '\\n', '\\n', '\\n', '\\n', '\\n', '\\n', '\\n', 'August 5, 2022', '\\n', \"10 Years Since Landing, NASA's Curiosity Mars Rover Still Has Drive\", '\\n', 'Despite signs of wear, the intrepid spacecraft is about to start an exciting new chapter of its mission as it climbs a Martian mountain.', '\\n', '\\n', '\\n', '\\n', '\\n', '\\n', '\\n', '\\n', '\\n', '\\n', '\\n', '\\n', '\\n', '\\n', '\\n', 'August 4, 2022', '\\n', \"SAM's Top 5 Discoveries Aboard NASA's Curiosity Rover at Mars\", '\\n', '“Selfie” of the Curiosity rover with inset showing the SAM instrument prior to installation on the rover.', '\\n', '\\n', '\\n', '\\n', '\\n', '\\n', '\\n', 'More', '\\n', '\\n', '\\n', '\\n', '\\n', '\\n', 'You Might Also Like', '\\n', '\\n', '\\n', '\\n', '\\n', '\\n', '\\n', '\\n', '\\n', '\\n', '\\n', 'NASA Marks 25 Years Since Pathfinder Touched Down on Mars', '\\n', '\\n', '\\n', '\\n', '\\n', '\\n', '\\n', '\\n', \"NASA's Perseverance Rover Captures Video of Solar Eclipse on Mars\", '\\n', '\\n', '\\n', '\\n', '\\n', '\\n', '\\n', '\\n', 'NASA, UAE Mars Missions Agree to Share Science Data', '\\n', '\\n', '\\n', '\\n', '\\n', '\\n', '\\n', '\\n', '\\n', '\\n', '\\n', '\\n', '\\n', '\\n', '\\n', '\\n', '\\n', 'The Red Planet', '\\n', '\\n', 'Dashboard', '\\n', 'Science Goals', '\\n', 'The Planet', '\\n', '\\n', '\\n', '\\n', 'The Program', '\\n', '\\n', 'Mission Statement', '\\n', 'About the Program', '\\n', 'Organization Why Mars?', '\\n', '\\n', '\\n', '\\n', 'Multimedia', '\\n', '\\n', 'Images', '\\n', 'Videos', '\\n', 'More Resources', '\\n', '\\n', '\\n', '\\n', 'Missions', '\\n', '\\n', 'Past', '\\n', 'Present', '\\n', 'Future', '\\n', '\\n', '\\n', '\\n', '\\n', '\\n', '\\n', '\\n', \"Images and news content extracted from NASA's \", 'Mars News', ' website on November 9, 2022.', '\\n         Images used in accordance with the ', 'JPL Image Use Policy', '.', '\\n', '\\n', 'This site is operated by edX Boot Camps LLC for educational purposes only.  ', '\\n            This is not a website endorsed by NASA. This website is intended only for internal academic purposes.', '\\n', '\\n', '\\n']\n"
     ]
    }
   ],
   "source": [
    "# Extract all the text elements\n",
    "text = html_soup.find_all(text=True)\n",
    "print(text)"
   ]
  },
  {
   "cell_type": "code",
   "execution_count": 97,
   "metadata": {},
   "outputs": [
    {
     "name": "stdout",
     "output_type": "stream",
     "text": [
      "Paragraphs:\n",
      "\n",
      "\n",
      "November 9, 2022\n",
      "NASA's MAVEN Observes Martian Light Show Caused by Major Solar Storm\n",
      "For the first time in its eight years orbiting Mars, NASA’s MAVEN mission witnessed two different types of ultraviolet aurorae simultaneously, the result of solar storms that began on Aug. 27.\n",
      "\n",
      "\n",
      "\n",
      "\n",
      "November 1, 2022\n",
      "NASA Prepares to Say 'Farewell' to InSight Spacecraft\n",
      "A closer look at what goes into wrapping up the mission as the spacecraft’s power supply continues to dwindle.\n",
      "\n",
      "\n",
      "\n",
      "\n",
      "October 28, 2022\n",
      "NASA and ESA Agree on Next Steps to Return Mars Samples to Earth\n",
      "The agency’s Perseverance rover will establish the first sample depot on Mars.\n",
      "\n",
      "\n",
      "\n",
      "\n",
      "October 27, 2022\n",
      "NASA's InSight Lander Detects Stunning Meteoroid Impact on Mars\n",
      "The agency’s lander felt the ground shake during the impact while cameras aboard the Mars Reconnaissance Orbiter spotted the yawning new crater from space.\n",
      "\n",
      "\n",
      "\n",
      "\n",
      "October 21, 2022\n",
      "NASA To Host Briefing on InSight, Mars Reconnaissance Orbiter Findings\n",
      "Scientists from two Mars missions will discuss how they combined images and data for a major finding on the Red Planet.\n",
      "\n",
      "\n",
      "\n",
      "\n",
      "October 20, 2022\n",
      "Why NASA Is Trying To Crash Land on Mars\n",
      "Like a car’s crumple zone, the experimental SHIELD lander is designed to absorb a hard impact.\n",
      "\n",
      "\n",
      "\n",
      "\n",
      "October 19, 2022\n",
      "Curiosity Mars Rover Reaches Long-Awaited Salty Region\n",
      "After years of climbing, the Mars rover has arrived at a special region believed to have formed as Mars’ climate was drying.\n",
      "\n",
      "\n",
      "\n",
      "\n",
      "October 12, 2022\n",
      "Mars Mission Shields Up for Tests\n",
      "Protecting Mars Sample Return spacecraft from micrometeorites requires high-caliber work.\n",
      "\n",
      "\n",
      "\n",
      "\n",
      "October 7, 2022\n",
      "NASA's InSight Waits Out Dust Storm\n",
      "InSight’s team is taking steps to help the solar-powered lander continue operating for as long as possible.\n",
      "\n",
      "\n",
      "\n",
      "\n",
      "September 19, 2022\n",
      "NASA's InSight 'Hears' Its First Meteoroid Impacts on Mars\n",
      "The Mars lander’s seismometer has picked up vibrations from four separate impacts in the past two years.\n",
      "\n",
      "\n",
      "\n",
      "\n",
      "September 15, 2022\n",
      "NASA's Perseverance Rover Investigates Geologically Rich Mars Terrain\n",
      "The latest findings provide greater detail on a region of the Red Planet that has a watery past and is yielding promising samples for the NASA-ESA Mars Sample Return campaign.\n",
      "\n",
      "\n",
      "\n",
      "\n",
      "September 12, 2022\n",
      "NASA to Host Briefing on Perseverance Mars Rover Mission Operations\n",
      "Members of the mission will discuss the rover’s activities as it gathers samples in an ancient river delta.\n",
      "\n",
      "\n",
      "\n",
      "\n",
      "August 25, 2022\n",
      "NASA's Perseverance Makes New Discoveries in Mars' Jezero Crater\n",
      "The rover found that Jezero Crater’s floor is made up of volcanic rocks that have interacted with water.\n",
      "\n",
      "\n",
      "\n",
      "\n",
      "August 5, 2022\n",
      "10 Years Since Landing, NASA's Curiosity Mars Rover Still Has Drive\n",
      "Despite signs of wear, the intrepid spacecraft is about to start an exciting new chapter of its mission as it climbs a Martian mountain.\n",
      "\n",
      "\n",
      "\n",
      "\n",
      "August 4, 2022\n",
      "SAM's Top 5 Discoveries Aboard NASA's Curiosity Rover at Mars\n",
      "“Selfie” of the Curiosity rover with inset showing the SAM instrument prior to installation on the rover.\n",
      "\n",
      "\n",
      "Links:\n",
      "\n",
      "MARS Planet Science\n",
      "Exploration Program\n",
      " #\n",
      "The Red Planet #\n",
      "The Program #\n",
      "News & Events #\n",
      "Multimedia #\n",
      "Missions #\n",
      "More #\n",
      " #\n",
      "Mars News https://mars.nasa.gov/news/\n",
      "JPL Image Use Policy https://www.jpl.nasa.gov/jpl-image-use-policy\n"
     ]
    }
   ],
   "source": [
    "# Extract all the text elements\n",
    "title = html_soup.title.text\n",
    "paragraphs = html_soup.find_all('div', class_='col-md-8')\n",
    "links = html_soup.find_all('a')\n",
    "\n",
    "print('Paragraphs:')\n",
    "for paragraph in paragraphs:\n",
    "    print(paragraph.text)\n",
    "    \n",
    "print('Links:')\n",
    "for link in links:\n",
    "    print(link.text, link['href'])\n"
   ]
  },
  {
   "attachments": {},
   "cell_type": "markdown",
   "metadata": {},
   "source": [
    "### Step 3: Store the Results\n",
    "\n",
    "Extract the titles and preview text of the news articles that you scraped. Store the scraping results in Python data structures as follows:\n",
    "\n",
    "* Store each title-and-preview pair in a Python dictionary. And, give each dictionary two keys: `title` and `preview`. An example is the following:\n",
    "\n",
    "  ```python\n",
    "  {'title': \"NASA's MAVEN Observes Martian Light Show Caused by Major Solar Storm\", \n",
    "   'preview': \"For the first time in its eight years orbiting Mars, NASA’s MAVEN mission witnessed two different types of ultraviolet aurorae simultaneously, the result of solar storms that began on Aug. 27.\"\n",
    "  }\n",
    "  ```\n",
    "\n",
    "* Store all the dictionaries in a Python list.\n",
    "\n",
    "* Print the list in your notebook."
   ]
  },
  {
   "cell_type": "code",
   "execution_count": 98,
   "metadata": {},
   "outputs": [],
   "source": [
    "# Create an empty list to store the dictionaries\n",
    "list_dict = []"
   ]
  },
  {
   "cell_type": "code",
   "execution_count": 99,
   "metadata": {},
   "outputs": [],
   "source": [
    "# Loop through the text elements\n",
    "# Extract the title and preview text from the elements\n",
    "# Store each title and preview pair in a dictionary\n",
    "# Add the dictionary to the list\n",
    "\n",
    "articles = html_soup.find_all('div', class_='list_text')\n",
    "for article in articles:\n",
    "    dict = {}\n",
    "    content_title = article.find('div', class_='content_title').text.strip()\n",
    "    article_teaser_body = article.find('div', class_='article_teaser_body').text.strip()\n",
    "    dict['Title:'] = content_title\n",
    "    dict['Preview:'] = article_teaser_body\n",
    "    list_dict.append(dict)\n"
   ]
  },
  {
   "cell_type": "code",
   "execution_count": 100,
   "metadata": {},
   "outputs": [
    {
     "name": "stdout",
     "output_type": "stream",
     "text": [
      "Article:  1\n",
      "Title:  NASA's MAVEN Observes Martian Light Show Caused by Major Solar Storm\n",
      "Preview:  For the first time in its eight years orbiting Mars, NASA’s MAVEN mission witnessed two different types of ultraviolet aurorae simultaneously, the result of solar storms that began on Aug. 27.\n",
      "\n",
      "\n",
      "Article:  2\n",
      "Title:  NASA Prepares to Say 'Farewell' to InSight Spacecraft\n",
      "Preview:  A closer look at what goes into wrapping up the mission as the spacecraft’s power supply continues to dwindle.\n",
      "\n",
      "\n",
      "Article:  3\n",
      "Title:  NASA and ESA Agree on Next Steps to Return Mars Samples to Earth\n",
      "Preview:  The agency’s Perseverance rover will establish the first sample depot on Mars.\n",
      "\n",
      "\n",
      "Article:  4\n",
      "Title:  NASA's InSight Lander Detects Stunning Meteoroid Impact on Mars\n",
      "Preview:  The agency’s lander felt the ground shake during the impact while cameras aboard the Mars Reconnaissance Orbiter spotted the yawning new crater from space.\n",
      "\n",
      "\n",
      "Article:  5\n",
      "Title:  NASA To Host Briefing on InSight, Mars Reconnaissance Orbiter Findings\n",
      "Preview:  Scientists from two Mars missions will discuss how they combined images and data for a major finding on the Red Planet.\n",
      "\n",
      "\n",
      "Article:  6\n",
      "Title:  Why NASA Is Trying To Crash Land on Mars\n",
      "Preview:  Like a car’s crumple zone, the experimental SHIELD lander is designed to absorb a hard impact.\n",
      "\n",
      "\n",
      "Article:  7\n",
      "Title:  Curiosity Mars Rover Reaches Long-Awaited Salty Region\n",
      "Preview:  After years of climbing, the Mars rover has arrived at a special region believed to have formed as Mars’ climate was drying.\n",
      "\n",
      "\n",
      "Article:  8\n",
      "Title:  Mars Mission Shields Up for Tests\n",
      "Preview:  Protecting Mars Sample Return spacecraft from micrometeorites requires high-caliber work.\n",
      "\n",
      "\n",
      "Article:  9\n",
      "Title:  NASA's InSight Waits Out Dust Storm\n",
      "Preview:  InSight’s team is taking steps to help the solar-powered lander continue operating for as long as possible.\n",
      "\n",
      "\n",
      "Article:  10\n",
      "Title:  NASA's InSight 'Hears' Its First Meteoroid Impacts on Mars\n",
      "Preview:  The Mars lander’s seismometer has picked up vibrations from four separate impacts in the past two years.\n",
      "\n",
      "\n",
      "Article:  11\n",
      "Title:  NASA's Perseverance Rover Investigates Geologically Rich Mars Terrain\n",
      "Preview:  The latest findings provide greater detail on a region of the Red Planet that has a watery past and is yielding promising samples for the NASA-ESA Mars Sample Return campaign.\n",
      "\n",
      "\n",
      "Article:  12\n",
      "Title:  NASA to Host Briefing on Perseverance Mars Rover Mission Operations\n",
      "Preview:  Members of the mission will discuss the rover’s activities as it gathers samples in an ancient river delta.\n",
      "\n",
      "\n",
      "Article:  13\n",
      "Title:  NASA's Perseverance Makes New Discoveries in Mars' Jezero Crater\n",
      "Preview:  The rover found that Jezero Crater’s floor is made up of volcanic rocks that have interacted with water.\n",
      "\n",
      "\n",
      "Article:  14\n",
      "Title:  10 Years Since Landing, NASA's Curiosity Mars Rover Still Has Drive\n",
      "Preview:  Despite signs of wear, the intrepid spacecraft is about to start an exciting new chapter of its mission as it climbs a Martian mountain.\n",
      "\n",
      "\n",
      "Article:  15\n",
      "Title:  SAM's Top 5 Discoveries Aboard NASA's Curiosity Rover at Mars\n",
      "Preview:  “Selfie” of the Curiosity rover with inset showing the SAM instrument prior to installation on the rover.\n",
      "\n",
      "\n"
     ]
    }
   ],
   "source": [
    "# Print the list to confirm success\n",
    "i = 1\n",
    "for dict in list_dict:\n",
    "    print('Article: ', i)\n",
    "    print('Title: ', dict['Title:'])\n",
    "    print('Preview: ', dict['Preview:'])\n",
    "    print('\\n')\n",
    "    i += 1"
   ]
  },
  {
   "cell_type": "code",
   "execution_count": 101,
   "metadata": {},
   "outputs": [],
   "source": [
    "browser.quit()"
   ]
  },
  {
   "cell_type": "code",
   "execution_count": null,
   "metadata": {},
   "outputs": [],
   "source": []
  }
 ],
 "metadata": {
  "kernelspec": {
   "display_name": "Python 3 (ipykernel)",
   "language": "python",
   "name": "python3"
  },
  "language_info": {
   "codemirror_mode": {
    "name": "ipython",
    "version": 3
   },
   "file_extension": ".py",
   "mimetype": "text/x-python",
   "name": "python",
   "nbconvert_exporter": "python",
   "pygments_lexer": "ipython3",
   "version": "3.9.16"
  },
  "vscode": {
   "interpreter": {
    "hash": "31f2aee4e71d21fbe5cf8b01ff0e069b9275f58929596ceb00d14d90e3e16cd6"
   }
  }
 },
 "nbformat": 4,
 "nbformat_minor": 4
}
